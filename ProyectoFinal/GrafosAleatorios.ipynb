{
 "cells": [
  {
   "cell_type": "markdown",
   "metadata": {},
   "source": [
    "# Grafos aletarios\n",
    "## Modelos y Relaciones\n",
    "Sea $ \\mathcal{G}_{n,m} $ la familia de grafos de n vértices del conjunto $V=[n]= \\{ 1,2,3,...,n\\}$ y exactamente $m$ aristas, donde $0\\leq m \\leq {n \\choose 2}$\n",
    "\n",
    "Para todo $G \\in \\mathcal{G}_{n,m}$ asignamos la siguiente probabilidad\n",
    "$$ \\mathcal{P}(G) = \\frac{1}{{n \\choose 2} \\choose m}$$\n",
    "\n",
    "Comezaremos con un grafo vacío de $n$ vértices y llenaremos luego las $m$ aristas donde las ${{n \\choose 2} \\choose m}$ son igualmente probables de ser escogidas. Denotaremos a este modelo **grafo aleatorio uniforme** .\n",
    "\n",
    "$\\mathbb{G}_{n,m}=([n],E_{n,m})$\n",
    "\n",
    "Equivalentemente, describiremos un modelo similar.\n",
    "\n",
    "Dado $0\\leq p \\leq 1$ y comenzanso con un grafo de n vértices vacío, consideramos $p$ como la probabilidad de que cada {{n \\choose 2} \\choose m} sea escogida. Entonces para $G$ con $m$ aristas y un conjunto de vértices $[n]$ la probabilidad\n",
    "\n",
    "$$\\mathcal{P}(G)= p^{m}. (1-p)^{{\\binom{n}{2}-m}}$$\n",
    "\n",
    "Siguiendo con el modelo del grafo vacío, realizamos $\\binom{n}{2}$ experimentos Bernoulli añadiendo aristas independientemente con probabilidad $p$.\n",
    "A este grafo aleatorio lo llamaremos **grafo aleatorio binomial** y es denotado por:\n",
    "$$\\mathbb{G}_{n,p}=([n],E_{n,p})$$\n",
    "\n",
    "Notamos entonces que la única diferencia entre estos dos modelos es que en $\\mathbb{G}_{n,m}$ escogemos el número de aristas, mientras que en $\\mathbb{G}_{n,p}$ las aristas están condicionadas a la variable aleatoria $Binomial(\\binom{n}{2},p)$"
   ]
  },
  {
   "cell_type": "markdown",
   "metadata": {},
   "source": []
  }
 ],
 "metadata": {
  "kernelspec": {
   "display_name": "R",
   "language": "R",
   "name": "ir"
  },
  "language_info": {
   "codemirror_mode": "r",
   "file_extension": ".r",
   "mimetype": "text/x-r-source",
   "name": "R",
   "pygments_lexer": "r",
   "version": "3.4.2"
  }
 },
 "nbformat": 4,
 "nbformat_minor": 2
}
