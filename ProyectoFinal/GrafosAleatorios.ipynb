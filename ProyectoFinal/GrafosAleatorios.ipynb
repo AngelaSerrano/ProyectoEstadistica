{
 "cells": [
  {
   "cell_type": "markdown",
   "metadata": {},
   "source": [
    "# Grafos aletarios\n",
    "## Modelos y Relaciones\n",
    "Sea $ \\mathcal{G}_{n,m} $ la familia de grafos de n vértices del conjunto $V=[n]= \\{ 1,2,3,...,n\\}$ y exactamente $m$ aristas, donde $0\\leq m \\leq {n \\choose 2}$\n",
    "\n",
    "Para todo $G \\in \\mathcal{G}_{n,m}$ asignamos la siguiente probabilidad\n",
    "$$ \\mathcal{P}(G) = \\frac{1}{{n \\choose 2} \\choose m}$$\n",
    "\n",
    "Comezaremos con un grafo vacío de $n$ vértices y llenaremos luego las $m$ aristas donde las ${{n \\choose 2} \\choose m}$ son igualmente probables de ser escogidas. Denotaremos a este modelo **grafo aleatorio uniforme** .\n",
    "\n",
    "$\\mathbb{G}_{n,m}=([n],E_{n,m})$\n",
    "\n",
    "Equivalentemente, describiremos un modelo similar.\n",
    "\n",
    "Dado $0\\leq p \\leq 1$ y comenzanso con un grafo de n vértices vacío, consideramos $p$ como la probabilidad de que cada {{n \\choose 2} \\choose m} sea escogida. Entonces para $G$ con $m$ aristas y un conjunto de vértices $[n]$ la probabilidad\n",
    "\n",
    "$$\\mathcal{P}(G)= p^{m}. (1-p)^{{\\binom{n}{2}-m}}$$\n",
    "\n",
    "Siguiendo con el modelo del grafo vacío, realizamos $\\binom{n}{2}$ experimentos Bernoulli añadiendo aristas independientemente con probabilidad $p$.\n",
    "A este grafo aleatorio lo llamaremos **grafo aleatorio binomial** y es denotado por:\n",
    "$$\\mathbb{G}_{n,p}=([n],E_{n,p})$$\n",
    "\n",
    "Notamos entonces que la única diferencia entre estos dos modelos es que en $\\mathbb{G}_{n,m}$ escogemos el número de aristas, mientras que en $\\mathbb{G}_{n,p}$ las aristas están condicionadas a la variable aleatoria $Binomial(\\binom{n}{2},p)$\n",
    "\n",
    "\n",
    "Los siguientes gráficos simulan el comportamiento de una grafo aleatorio de 10 vértices, donde cada arista tiene probabilidad de ser escogida entre 0 y 1, variando en 0.25."
   ]
  },
  {
   "cell_type": "code",
   "execution_count": null,
   "metadata": {},
   "outputs": [],
   "source": [
    "n <- 10\n",
    "graph <- function(n,p){\n",
    "    #N es el total de aristas posibles en un grafo n vertices\n",
    "    N <- choose(n,2)\n",
    "    #x será el vector que almacene el PMF de la dist. binomial\n",
    "    x <- dbinom(0:N, size=N, prob=p)\n",
    "    barplot(x,names.arg=c(0:N), main=sprintf(paste(\"Distribución Binomial\",N,p,sep=\" \")))\n",
    "}\n",
    "par(mfrow=c(5,1))\n",
    "graph(n,0.0)\n",
    "graph(n,0.25)\n",
    "graph(n,0.50)\n",
    "graph(n,0.75)\n",
    "graph(n,1.0)"
   ]
  },
  {
   "cell_type": "markdown",
   "metadata": {},
   "source": [
    "\n",
    "### Grafo aleatorio Binomial vs. Uniforme\n",
    "\n",
    "Si bien es cierto que en el grafo aleatorio uniforme nosotros definimos n y m desde el principio, esto no ayuda a a investigación analítica debido a que no posee independencia entre aristas como sí lo hace el grafo aleatorio binomial. De hecho, existe una conexión cerca entre ellos y las propiedades de $\\mathcal{G}_{n,m}$ y $\\mathcal{G}_{n,p}$ son muy similares en el caso de $m=\\binom{n}{2}p$\n",
    "\n",
    "\n",
    "#### Propiedades de $\\mathcal{G}_{n,m}$\n",
    "* La media del número de aristas en $\\mathcal{G}_{n,p}$ es $\\binom{n}{2}p$. Podemos llegar a este resultado notando que la distribución de numero de aristas $X$ en $\\mathcal{G}_{n,p}$ es binomial con parametros $\\binom{n}{2}$ y $p$.\n",
    "\n",
    " $$\\mathcal{P}(X=k)=\\binom{n}{2}p^{m}. (1-p)^{{\\binom{n}{2}-m}}$$\n",
    "\n",
    " Y recordamos la media de una distribución binomial.\n",
    "* La distribución que la r.v. que toma el valor del grado para cualquier vértice en $\\mathcal{G}_{n,p}$ es binomial con parámetros $n-1$ y $p$. Es decir si $D_{i}$ es la variable aleatoria que denota el grado de un vértice $i$, luego\n",
    "    $$ \\mathcal{P}(D_{i}=k)=\\binom{n-1}{k}p^{k}. (1-p)^{k-1}$$ \n",
    "    Un detalle importante que debemos tomar en cuenta es que para dos diferente vértices $i$ y $j$ y las variables aleatorias $D_{i}$ y $D_{j}$ no son precisamente independientes pues si $D_{i}=n-1$ entonces es claro que $D_{j} \\neq 0$ . Sin embargo, considerando n un número mu grande, se puede decir que son independientes y podríamos asumir que la distribución de grados se comporta como binomial. A partir de este resultado, podemos entonces aproximar la distribución binomial a Poisson en el caso $np \\rightarrow \\lambda$"
   ]
  }
 ],
 "metadata": {
  "kernelspec": {
   "display_name": "R",
   "language": "R",
   "name": "ir"
  },
  "language_info": {
   "codemirror_mode": "r",
   "file_extension": ".r",
   "mimetype": "text/x-r-source",
   "name": "R",
   "pygments_lexer": "r",
   "version": "3.4.4"
  }
 },
 "nbformat": 4,
 "nbformat_minor": 2
}
